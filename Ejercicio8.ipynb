{
 "cells": [
  {
   "cell_type": "markdown",
   "metadata": {},
   "source": [
    "## EJERCICIO 6 "
   ]
  },
  {
   "cell_type": "code",
   "execution_count": null,
   "metadata": {},
   "outputs": [
    {
     "ename": "",
     "evalue": "",
     "output_type": "error",
     "traceback": [
      "\u001b[1;31mRunning cells with 'c:\\Users\\Sebastian\\AppData\\Local\\Microsoft\\WindowsApps\\python3.12.exe' requires the ipykernel package.\n",
      "\u001b[1;31mRun the following command to install 'ipykernel' into the Python environment. \n",
      "\u001b[1;31mCommand: 'c:/Users/Sebastian/AppData/Local/Microsoft/WindowsApps/python3.12.exe -m pip install ipykernel -U --user --force-reinstall'"
     ]
    }
   ],
   "source": [
    "#Grafico de barras\n",
    "eje_x = ['Alimentos, bebidas y tabaco','Vestido y calzado','Vivienda y combustibles','Artículos y servicios para la casa','Cuidados de la salud','Transporte y comunicaciones','Educación y esparcimiento','Cuidados personales','Transferencia de gasto','Autoconsumo','Remuneraciones en especie','Transferencias en especie','Estimación del alquiler de la vivienda']\n",
    " \n",
    "eje_y = [7389,1155,2207,1316,685,4052,2974,1530,676,305,545,2352,4091]\n",
    "\n",
    "plt.title(\"Rubros de gastos\")\n",
    "plt.grid(True)\n",
    "plt.barh(eje_x, eje_y, color=sns_paleta)\n",
    "plt.show()\n",
    "\n",
    "# Datos para el gráfico circular\n",
    "datos = [25, 3, 7, 4, 2, 13, 10, 5, 2, 1, 1, 8, 13]\n",
    "separaciones = [0, 0, 0, 0, 0, 0, 0, 0, 0, 0, 0, 0, 0]\n",
    "\n",
    "\n",
    "plt.pie(datos, \n",
    "        radius = 2,\n",
    "        explode = separaciones, \n",
    "        autopct = \"%0.1f%%\", \n",
    "        pctdistance = 0.8, \n",
    "        counterclock = False,\n",
    "        startangle  = 90,\n",
    "       labels = ['Alimentos, bebidas y tabaco','Vestido y calzado','Vivienda y combustibles','Artículos y servicios para la casa','Cuidados de la salud','Transporte y comunicaciones','Educación y esparcimiento','Cuidados personales','Transferencia de gasto','Autoconsumo','Remuneraciones en especie','Transferencias en especie','Estimación del alquiler de la vivienda'])\n",
    "plt.barh(eje_x, width = 0, color=sns_paleta)\n",
    "plt.show()"
   ]
  }
 ],
 "metadata": {
  "kernelspec": {
   "display_name": "Python 3",
   "language": "python",
   "name": "python3"
  },
  "language_info": {
   "name": "python",
   "version": "3.12.2"
  }
 },
 "nbformat": 4,
 "nbformat_minor": 2
}
