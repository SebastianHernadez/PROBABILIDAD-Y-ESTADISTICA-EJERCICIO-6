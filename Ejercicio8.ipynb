{
 "cells": [
  {
   "cell_type": "markdown",
   "metadata": {},
   "source": [
    "## EJERCICIO 6 "
   ]
  },
  {
   "cell_type": "markdown",
   "metadata": {},
   "source": [
    "# Gustabo "
   ]
  },
  {
   "cell_type": "markdown",
   "metadata": {},
   "source": [
    "<table>\n",
    "  <tr>\n",
    "    <td></td>\n",
    "    <td>Grandes rubros de gasto</td>\n",
    "    <td>2008</td>\n",
    "  </tr>\n",
    "  <tr>\n",
    "    <td>1</td>\n",
    "    <td>Alimentos, bebidas y gastos</td>\n",
    "    <td>7,389.00</td>\n",
    "  </tr>\n",
    "  <tr>\n",
    "    <td>2</td>\n",
    "    <td>Vestido y calzado</td>\n",
    "    <td>1,155.00</td>\n",
    "  </tr>\n",
    "  <tr>\n",
    "    <td>3</td>\n",
    "    <td>Vivienda y combustibles</td>\n",
    "    <td>2,207.00</td>\n",
    "  </tr>\n",
    "  <tr>\n",
    "    <td>4</td>\n",
    "    <td>Artículos y servicios de la casa</td>\n",
    "    <td>1,316.00</td>\n",
    "  </tr>\n",
    "  <tr>\n",
    "    <td>5</td>\n",
    "    <td>Cuidados de la salud</td>\n",
    "    <td>685</td>\n",
    "  </tr>\n",
    "  <tr>\n",
    "    <td>6</td>\n",
    "    <td>Transporte y comunicación</td>\n",
    "    <td>4,052.00</td>\n",
    "  </tr>\n",
    "  <tr>\n",
    "    <td>7</td>\n",
    "    <td>Educación y esparcimiento</td>\n",
    "    <td>2,974.00</td>\n",
    "  </tr>\n",
    "  <tr>\n",
    "    <td>8</td>\n",
    "    <td>Cuidados personales</td>\n",
    "    <td>1,530.00</td>\n",
    "  </tr>\n",
    "  <tr>\n",
    "    <td>9</td>\n",
    "    <td>Transferencia de gasto</td>\n",
    "    <td>676</td>\n",
    "  </tr>\n",
    "  <tr>\n",
    "    <td>10</td>\n",
    "    <td>Autoconsumo</td>\n",
    "    <td>305</td>\n",
    "  </tr>\n",
    "  <tr>\n",
    "    <td>11</td>\n",
    "    <td>Remuneraciones en especie</td>\n",
    "    <td>545</td>\n",
    "  </tr>\n",
    "  <tr>\n",
    "    <td>12</td>\n",
    "    <td>Transferencia de especie</td>\n",
    "    <td>2,352.00</td>\n",
    "  </tr>\n",
    "  <tr>\n",
    "    <td>13</td>\n",
    "    <td>Estimación de alquiler de vivienda</td>\n",
    "    <td>4,091.00</td>\n",
    "  </tr>\n",
    "</table>\n"
   ]
  },
  {
   "cell_type": "markdown",
   "metadata": {},
   "source": [
    "# Sebastian "
   ]
  },
  {
   "cell_type": "code",
   "execution_count": null,
   "metadata": {},
   "outputs": [],
   "source": [
    "import matplotlib.pyplot as plt \n",
    "import seaborn as sns\n",
    "print(\"setup terminado\")"
   ]
  },
  {
   "cell_type": "code",
   "execution_count": null,
   "metadata": {},
   "outputs": [],
   "source": [
    "#Grafico de barras\n",
    "eje_x = ['Alimentos, bebidas y tabaco','Vestido y calzado','Vivienda y combustibles','Artículos y servicios para la casa','Cuidados de la salud','Transporte y comunicaciones','Educación y esparcimiento','Cuidados personales','Transferencia de gasto','Autoconsumo','Remuneraciones en especie','Transferencias en especie','Estimación del alquiler de la vivienda']\n",
    " \n",
    "eje_y = [7389,1155,2207,1316,685,4052,2974,1530,676,305,545,2352,4091]\n",
    "\n",
    "plt.title(\"Rubros de gastos\")\n",
    "plt.grid(True)\n",
    "plt.barh(eje_x, eje_y, color=sns_paleta)\n",
    "plt.show()\n",
    "\n",
    "# Datos para el gráfico circular\n",
    "datos = [25, 3, 7, 4, 2, 13, 10, 5, 2, 1, 1, 8, 13]\n",
    "separaciones = [0, 0, 0, 0, 0, 0, 0, 0, 0, 0, 0, 0, 0]\n",
    "\n",
    "\n",
    "plt.pie(datos, \n",
    "        radius = 2,\n",
    "        explode = separaciones, \n",
    "        autopct = \"%0.1f%%\", \n",
    "        pctdistance = 0.8, \n",
    "        counterclock = False,\n",
    "        startangle  = 90,\n",
    "       labels = ['Alimentos, bebidas y tabaco','Vestido y calzado','Vivienda y combustibles','Artículos y servicios para la casa','Cuidados de la salud','Transporte y comunicaciones','Educación y esparcimiento','Cuidados personales','Transferencia de gasto','Autoconsumo','Remuneraciones en especie','Transferencias en especie','Estimación del alquiler de la vivienda'])\n",
    "plt.barh(eje_x, width = 0, color=sns_paleta)\n",
    "plt.show()"
   ]
  }
 ],
 "metadata": {
  "kernelspec": {
   "display_name": "Python 3",
   "language": "python",
   "name": "python3"
  },
  "language_info": {
   "name": "python",
   "version": "3.12.2"
  }
 },
 "nbformat": 4,
 "nbformat_minor": 2
}
